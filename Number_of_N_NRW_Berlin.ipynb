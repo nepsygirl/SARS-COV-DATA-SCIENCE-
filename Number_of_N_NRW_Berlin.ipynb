{
  "nbformat": 4,
  "nbformat_minor": 0,
  "metadata": {
    "colab": {
      "provenance": []
    },
    "kernelspec": {
      "name": "python3",
      "display_name": "Python 3"
    },
    "language_info": {
      "name": "python"
    }
  },
  "cells": [
    {
      "cell_type": "code",
      "execution_count": 3,
      "metadata": {
        "colab": {
          "base_uri": "https://localhost:8080/"
        },
        "id": "HPXKTWadW4PI",
        "outputId": "8f92bec3-4f85-4bda-fd1f-ac20f4a9389e"
      },
      "outputs": [
        {
          "output_type": "stream",
          "name": "stdout",
          "text": [
            "256\n",
            "257\n",
            "53\n",
            "555\n",
            "424\n",
            "86\n",
            "579\n",
            "424\n",
            "14\n",
            "121\n",
            "437\n",
            "259\n",
            "259\n",
            "121\n",
            "259\n",
            "442\n",
            "121\n",
            "257\n",
            "516\n",
            "426\n",
            "229\n",
            "35\n",
            "263\n",
            "253\n",
            "259\n",
            "461\n",
            "244\n",
            "274\n",
            "34\n",
            "445\n",
            "418\n",
            "301\n",
            "242\n",
            "253\n",
            "127\n",
            "54\n"
          ]
        }
      ],
      "source": [
        "def read_fasta(fp):\n",
        "        name, seq = None, []\n",
        "        for line in fp:\n",
        "            line = line.rstrip()\n",
        "            if line.startswith(\">\"):\n",
        "                if name: yield (name, ''.join(seq))\n",
        "                name, seq = line, []\n",
        "            else:\n",
        "                seq.append(line)\n",
        "        if name: yield (name, ''.join(seq))\n",
        "\n",
        "with open(\"/content/sequences_Berlin_2021.fasta\") as fp:\n",
        "    for name, seq in read_fasta(fp):\n",
        "        print(seq.count('N'))\n",
        "\n"
      ]
    },
    {
      "cell_type": "code",
      "source": [
        "print(seq)"
      ],
      "metadata": {
        "colab": {
          "base_uri": "https://localhost:8080/"
        },
        "id": "6aNDRXe7bucx",
        "outputId": "920e191d-9834-485a-b13c-abd6d6ecea81"
      },
      "execution_count": 7,
      "outputs": [
        {
          "output_type": "stream",
          "name": "stdout",
          "text": [
            "NNNNNNNNNNNNNNNNNNNNNNNNNNNNNNNNNNNNNNACTTTCGATCTCTTGTAGATCTGTTCTCTAAACGAACTTTAAAATCTGTGTGGCTGTCACTCGGCTGCATGCTTAGTGCACTCACGCAGTATAATTAATAACTAATTACTGTCGTTGACAGGACACGAGTAACTCGTCTATCTTCTGCAGGCTGCTTACGGTTTCGTCCGTGTTGCAGCCGATCATCAGCACATCTAGGTTTTGTCCGGGTGTGACCGAAAGGTAAGATGGAGAGCCTTGTCCCTGGTTTCAACGAGAAAACACACGTCCAACTCAGTTTGCCTGTTTTACAGGTTCGCGACGTGCTCGTACGTGGCTTTGGAGACTCCGTGGAGGAGGTCTTATCAGAGGCACGTCAACATCTTAAAGATGGCACTTGTGGCTTAGTAGAAGTTGAAAAAGGCGTTTTGCCTCAACTTGAACAGCCCTATGTGTTCATCAAACGTTCGGATGCTCGAACTGCACCTCATGGTCATGTTATGGTTGAGCTGGTAGCAGAACTCGAAGGCATTCAGTACGGTCGTAGTGGTGAGACACTTGGTGTCCTTGTCCCTCATGTGGGCGAAATACCAGTGGCTTACCGCAAGGTTCTTCTTCGTAAGAACGGTAATAAAGGAGCTGGTGGCCATAGTTACGGCGCCGATCTAAAGTCATTTGACTTAGGCGACGAGCTTGGCACTGATCCTTATGAAGATTTTCAAGAAAACTGGAACACTAAACATAGCAGTGGTGTTACCCGTGAACTCATGCGTGAGCTTAACGGAGGGGCATACACTCGCTATGTCGATAACAACTTCTGTGGCCCTGATGGCTACCCTCTTGAGTGCATTAAAGACCTTCTAGCACGTGCTGGTAAAGCTTCATGCACTTTGTCTGAACAACTGGACTTTATTGACACTAAGAGGGGTGTATACTGCTGCCGTGAACATGAGCATGAAATTGCTTGGTACACGGAACGTTCTGAAAAGAGCTATGAATTGCAGACACCTTTTGAAATTAAATTGGCAAAGAAATTTGACACCTTCAATGGGGAATGTCCAAATTTTGTATTTCCCTTAAATTCCATAATCAAGACTATTCAACCAAGGGTTGAAAAGAAAAAGCTTGATGGCTTTATGGGTAGAATTCGATCTGTCTATCCAGTTGCGTCACCAAATGAATGCAACCAAATGTGCCTTTCAACTCTCATGAAGTGTGATCATTGTGGTGAAACTTCATGGCAGACGGGCGATTTTGTTAAAGCCACTTGCGAATTTTGTGGCACTGAGAATTTGACTAAAGAAGGTGCCACTACTTGTGGTTACTTACCCCAAAATGCTGTTGTTAAAATTTATTGTCCAGCATGTCACAATTCAGAAGTAGGACCTGAGCATAGTCTTGCCGAATACCATAATGAATCTGGCTTGAAAACCATTCTTCGTAAGGGTGGTCGCACTATTGCCTTTGGAGGCTGTGTGTTCTCTTATGTTGGTTGCCATAACAAGTGTGCCTATTGGGTTCCACGTGCTAGCGCTAACATAGGTTGTAACCATACAGGTGTTGTTGGAGAAGGTTCCGAAGGTCTTAATGACAACCTTCTTGAAATACTCCAAAAAGAGAAAGTCAACATCAATATTGTTGGTGACTTTAAACTTAATGAAGAGATCGCCATTATTTTGGCATCTTTTTCTGCTTCCACAAGTGCTTTTGTGGAAACTGTGAAAGGTTTGGATTATAAA\n"
          ]
        }
      ]
    },
    {
      "cell_type": "code",
      "source": [
        "def read_fasta(fp):\n",
        "        name, seq = None, []\n",
        "        for line in fp:\n",
        "            line = line.rstrip()\n",
        "            if line.startswith(\">\"):\n",
        "                if name: yield (name, ''.join(seq))\n",
        "                name, seq = line, []\n",
        "            else:\n",
        "                seq.append(line)\n",
        "        if name: yield (name, ''.join(seq))\n",
        "\n",
        "with open(\"/content/sequences_NRW_2021.fasta\") as fp:\n",
        "    for name, seq in read_fasta(fp):\n",
        "        print(seq.count('N'))\n",
        "\n"
      ],
      "metadata": {
        "colab": {
          "base_uri": "https://localhost:8080/"
        },
        "id": "4wRufGkddAB2",
        "outputId": "59cade33-595c-47ac-c3ac-afad85e2cd7c"
      },
      "execution_count": 1,
      "outputs": [
        {
          "output_type": "stream",
          "name": "stdout",
          "text": [
            "562\n",
            "412\n",
            "487\n",
            "855\n",
            "1172\n",
            "173\n",
            "167\n",
            "113\n",
            "101\n",
            "375\n",
            "174\n",
            "727\n",
            "290\n",
            "109\n",
            "293\n",
            "787\n",
            "33\n",
            "890\n",
            "15\n",
            "78\n",
            "3\n",
            "27\n",
            "369\n",
            "780\n",
            "1450\n",
            "253\n",
            "1356\n",
            "155\n",
            "222\n",
            "261\n",
            "746\n",
            "257\n",
            "259\n",
            "39\n",
            "247\n",
            "408\n",
            "2\n",
            "781\n",
            "4\n",
            "80\n",
            "44\n",
            "0\n",
            "176\n",
            "19\n",
            "419\n",
            "430\n",
            "898\n",
            "713\n",
            "253\n",
            "121\n",
            "625\n",
            "261\n",
            "136\n",
            "263\n",
            "4\n",
            "269\n",
            "1051\n",
            "364\n",
            "44\n",
            "779\n",
            "6\n",
            "586\n",
            "646\n",
            "716\n",
            "338\n",
            "121\n",
            "245\n",
            "578\n",
            "62\n",
            "693\n",
            "5\n",
            "121\n",
            "45\n",
            "773\n",
            "153\n",
            "45\n",
            "267\n",
            "557\n",
            "102\n",
            "392\n",
            "17\n",
            "522\n",
            "121\n",
            "17\n",
            "256\n",
            "36\n",
            "1067\n",
            "240\n",
            "541\n",
            "461\n",
            "424\n",
            "98\n",
            "309\n",
            "547\n",
            "1013\n",
            "756\n",
            "221\n",
            "253\n",
            "424\n",
            "256\n",
            "82\n",
            "219\n",
            "168\n",
            "506\n",
            "82\n",
            "531\n",
            "333\n",
            "563\n",
            "222\n",
            "530\n",
            "270\n",
            "259\n",
            "422\n",
            "353\n",
            "460\n",
            "251\n",
            "651\n",
            "38\n",
            "1125\n",
            "599\n",
            "75\n",
            "473\n",
            "144\n",
            "123\n",
            "121\n",
            "452\n",
            "415\n",
            "0\n",
            "289\n",
            "492\n",
            "904\n",
            "615\n",
            "508\n",
            "828\n",
            "370\n",
            "412\n",
            "884\n",
            "128\n",
            "348\n",
            "1577\n",
            "536\n",
            "420\n",
            "788\n",
            "470\n",
            "360\n",
            "2283\n",
            "274\n",
            "509\n",
            "495\n",
            "72\n",
            "73\n",
            "978\n",
            "219\n",
            "121\n",
            "881\n",
            "425\n",
            "614\n",
            "356\n",
            "253\n",
            "363\n",
            "440\n",
            "1005\n",
            "121\n",
            "259\n",
            "66\n",
            "75\n",
            "333\n",
            "100\n",
            "34\n",
            "83\n",
            "230\n",
            "542\n",
            "480\n",
            "20\n",
            "621\n",
            "315\n"
          ]
        }
      ]
    },
    {
      "cell_type": "code",
      "source": [
        "!pip install matplotlib-venn"
      ],
      "metadata": {
        "colab": {
          "base_uri": "https://localhost:8080/"
        },
        "id": "PmxYwGZNibiD",
        "outputId": "844309d8-ab84-4c18-c131-0bf46493961d"
      },
      "execution_count": 19,
      "outputs": [
        {
          "output_type": "stream",
          "name": "stdout",
          "text": [
            "Looking in indexes: https://pypi.org/simple, https://us-python.pkg.dev/colab-wheels/public/simple/\n",
            "Requirement already satisfied: matplotlib-venn in /usr/local/lib/python3.7/dist-packages (0.11.7)\n",
            "Requirement already satisfied: numpy in /usr/local/lib/python3.7/dist-packages (from matplotlib-venn) (1.21.6)\n",
            "Requirement already satisfied: matplotlib in /usr/local/lib/python3.7/dist-packages (from matplotlib-venn) (3.2.2)\n",
            "Requirement already satisfied: scipy in /usr/local/lib/python3.7/dist-packages (from matplotlib-venn) (1.7.3)\n",
            "Requirement already satisfied: cycler>=0.10 in /usr/local/lib/python3.7/dist-packages (from matplotlib->matplotlib-venn) (0.11.0)\n",
            "Requirement already satisfied: pyparsing!=2.0.4,!=2.1.2,!=2.1.6,>=2.0.1 in /usr/local/lib/python3.7/dist-packages (from matplotlib->matplotlib-venn) (3.0.9)\n",
            "Requirement already satisfied: kiwisolver>=1.0.1 in /usr/local/lib/python3.7/dist-packages (from matplotlib->matplotlib-venn) (1.4.4)\n",
            "Requirement already satisfied: python-dateutil>=2.1 in /usr/local/lib/python3.7/dist-packages (from matplotlib->matplotlib-venn) (2.8.2)\n",
            "Requirement already satisfied: typing-extensions in /usr/local/lib/python3.7/dist-packages (from kiwisolver>=1.0.1->matplotlib->matplotlib-venn) (4.1.1)\n",
            "Requirement already satisfied: six>=1.5 in /usr/local/lib/python3.7/dist-packages (from python-dateutil>=2.1->matplotlib->matplotlib-venn) (1.15.0)\n"
          ]
        }
      ]
    },
    {
      "cell_type": "code",
      "source": [
        "pip install seaborn"
      ],
      "metadata": {
        "colab": {
          "base_uri": "https://localhost:8080/"
        },
        "id": "aHK9GUWWsU3U",
        "outputId": "32aa1284-43a6-4c96-c5ff-89853e60ca20"
      },
      "execution_count": 55,
      "outputs": [
        {
          "output_type": "stream",
          "name": "stdout",
          "text": [
            "Looking in indexes: https://pypi.org/simple, https://us-python.pkg.dev/colab-wheels/public/simple/\n",
            "Requirement already satisfied: seaborn in /usr/local/lib/python3.7/dist-packages (0.11.2)\n",
            "Requirement already satisfied: scipy>=1.0 in /usr/local/lib/python3.7/dist-packages (from seaborn) (1.7.3)\n",
            "Requirement already satisfied: numpy>=1.15 in /usr/local/lib/python3.7/dist-packages (from seaborn) (1.21.6)\n",
            "Requirement already satisfied: matplotlib>=2.2 in /usr/local/lib/python3.7/dist-packages (from seaborn) (3.2.2)\n",
            "Requirement already satisfied: pandas>=0.23 in /usr/local/lib/python3.7/dist-packages (from seaborn) (1.3.5)\n",
            "Requirement already satisfied: cycler>=0.10 in /usr/local/lib/python3.7/dist-packages (from matplotlib>=2.2->seaborn) (0.11.0)\n",
            "Requirement already satisfied: kiwisolver>=1.0.1 in /usr/local/lib/python3.7/dist-packages (from matplotlib>=2.2->seaborn) (1.4.4)\n",
            "Requirement already satisfied: python-dateutil>=2.1 in /usr/local/lib/python3.7/dist-packages (from matplotlib>=2.2->seaborn) (2.8.2)\n",
            "Requirement already satisfied: pyparsing!=2.0.4,!=2.1.2,!=2.1.6,>=2.0.1 in /usr/local/lib/python3.7/dist-packages (from matplotlib>=2.2->seaborn) (3.0.9)\n",
            "Requirement already satisfied: typing-extensions in /usr/local/lib/python3.7/dist-packages (from kiwisolver>=1.0.1->matplotlib>=2.2->seaborn) (4.1.1)\n",
            "Requirement already satisfied: pytz>=2017.3 in /usr/local/lib/python3.7/dist-packages (from pandas>=0.23->seaborn) (2022.2.1)\n",
            "Requirement already satisfied: six>=1.5 in /usr/local/lib/python3.7/dist-packages (from python-dateutil>=2.1->matplotlib>=2.2->seaborn) (1.15.0)\n"
          ]
        }
      ]
    },
    {
      "cell_type": "code",
      "source": [
        "# !pip install seaborn\n",
        "import seaborn as sns\n",
        "sns.displot(seq, bins=8, kde=True);"
      ],
      "metadata": {
        "id": "rZTi0t8lsOM4"
      },
      "execution_count": null,
      "outputs": []
    },
    {
      "cell_type": "code",
      "source": [
        "def count_elements(seq) -> dict:\n",
        "     \"\"\"Tally elements from `seq`.\"\"\"\n",
        "     hist = {}\n",
        "     for i in seq:\n",
        "         hist[i] = hist.get(i, 0) + 1\n",
        "     return hist\n",
        "counted = count_elements(seq)\n",
        "counted"
      ],
      "metadata": {
        "colab": {
          "base_uri": "https://localhost:8080/"
        },
        "id": "soWU7YzVm5L0",
        "outputId": "24e99006-c642-4c88-aadb-53488896d8a7"
      },
      "execution_count": 41,
      "outputs": [
        {
          "output_type": "execute_result",
          "data": {
            "text/plain": [
              "{'N': 225, 'A': 7814, 'G': 5127, 'T': 8499, 'C': 4680}"
            ]
          },
          "metadata": {},
          "execution_count": 41
        }
      ]
    }
  ]
}